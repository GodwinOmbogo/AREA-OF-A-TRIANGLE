{
 "cells": [
  {
   "cell_type": "code",
   "execution_count": 2,
   "id": "9ea51618",
   "metadata": {},
   "outputs": [
    {
     "name": "stdout",
     "output_type": "stream",
     "text": [
      "Enter the first side 3\n",
      "Enter the second side4\n",
      "Enter the third side 5\n",
      "The area of a triangle is => ? 6.0\n"
     ]
    }
   ],
   "source": [
    "# finding the area of a triangle a/b_\\c\n",
    "\n",
    "a = float(input(\"Enter the first side \"))\n",
    "b = float(input(\"Enter the second side\"))\n",
    "c = float(input(\"Enter the third side \"))\n",
    "\n",
    "# where \"S\", is :\n",
    "\n",
    "S = (a + b + c)/2\n",
    "\n",
    "# the area of a triangle is,\n",
    "\n",
    "area = (S*(S-a)*(S-b)*(S-c)) **0.5\n",
    "\n",
    "\n",
    "print(\"The area of a triangle is => ?\", area)"
   ]
  },
  {
   "cell_type": "code",
   "execution_count": null,
   "id": "411d280d",
   "metadata": {},
   "outputs": [],
   "source": []
  }
 ],
 "metadata": {
  "kernelspec": {
   "display_name": "Python 3 (ipykernel)",
   "language": "python",
   "name": "python3"
  },
  "language_info": {
   "codemirror_mode": {
    "name": "ipython",
    "version": 3
   },
   "file_extension": ".py",
   "mimetype": "text/x-python",
   "name": "python",
   "nbconvert_exporter": "python",
   "pygments_lexer": "ipython3",
   "version": "3.9.12"
  }
 },
 "nbformat": 4,
 "nbformat_minor": 5
}
